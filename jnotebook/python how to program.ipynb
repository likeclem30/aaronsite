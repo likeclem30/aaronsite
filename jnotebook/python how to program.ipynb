{
 "cells": [
  {
   "cell_type": "code",
   "execution_count": 2,
   "metadata": {},
   "outputs": [],
   "source": [
    "a = [[77, 68, 86, 73], [96, 87, 89, 81], [70, 90, 86, 81]]"
   ]
  },
  {
   "cell_type": "code",
   "execution_count": 5,
   "metadata": {},
   "outputs": [
    {
     "name": "stdout",
     "output_type": "stream",
     "text": [
      "77 68 86 73 \n",
      "96 87 89 81 \n",
      "70 90 86 81 \n"
     ]
    }
   ],
   "source": [
    "for row in a:\n",
    "    for item in row:\n",
    "        print(item,end=' ')\n",
    "    print()"
   ]
  },
  {
   "cell_type": "code",
   "execution_count": 10,
   "metadata": {},
   "outputs": [
    {
     "name": "stdout",
     "output_type": "stream",
     "text": [
      "a[0][0]=77  a[0][1]=68  a[0][2]=86  a[0][3]=73  \n",
      "a[1][0]=96  a[1][1]=87  a[1][2]=89  a[1][3]=81  \n",
      "a[2][0]=70  a[2][1]=90  a[2][2]=86  a[2][3]=81  \n"
     ]
    }
   ],
   "source": [
    "for i,row in enumerate(a):\n",
    "    for j,item in enumerate(row):\n",
    "        print(f'a[{i}][{j}]={item} ',end=' ')\n",
    "    print()"
   ]
  },
  {
   "cell_type": "code",
   "execution_count": 29,
   "metadata": {},
   "outputs": [],
   "source": [
    "#file processing\n",
    "with open('accounts.txt','w') as accounts:\n",
    "    accounts.write(\"123446789  Aaron    10000\\n\")\n",
    "    accounts.write(\"263456778  Rachael  20000\\n\")\n",
    "    accounts.write(\"323466787  Ekondu    30000\")"
   ]
  },
  {
   "cell_type": "code",
   "execution_count": 30,
   "metadata": {
    "scrolled": true
   },
   "outputs": [
    {
     "name": "stdout",
     "output_type": "stream",
     "text": [
      "Account    Name       Balance   \n",
      "123446789  Aaron      10000     \n",
      "263456778  Rachael    20000     \n",
      "323466787  Ekondu     30000     \n"
     ]
    }
   ],
   "source": [
    "with open('accounts.txt','r') as accounts:\n",
    "    print(f\"{'Account':<10} {'Name':<10} {'Balance':<10}\")\n",
    "    for records in accounts:\n",
    "        account,name,balance = records.split()\n",
    "        print(f'{account:<10} {name:<10} {balance:<10}')"
   ]
  },
  {
   "cell_type": "code",
   "execution_count": 33,
   "metadata": {},
   "outputs": [],
   "source": [
    "#updatig files- dbms re more efficient in updating records in the file\n",
    "accounts = open('accounts.txt', 'r')\n",
    "temp_file = open('temp_file','w')\n",
    "\n",
    "with accounts,temp_file:\n",
    "    for rec in accounts:\n",
    "        account,name,balance in rec.split()\n",
    "        if account != '263456778':\n",
    "            temp_file.write(rec)\n",
    "        else:\n",
    "            new_rec = ' '.join([account,'Onyawole',balance])\n",
    "            temp_file.write(new_rec)"
   ]
  },
  {
   "cell_type": "code",
   "execution_count": null,
   "metadata": {},
   "outputs": [],
   "source": []
  }
 ],
 "metadata": {
  "kernelspec": {
   "display_name": "Python 3",
   "language": "python",
   "name": "python3"
  },
  "language_info": {
   "codemirror_mode": {
    "name": "ipython",
    "version": 3
   },
   "file_extension": ".py",
   "mimetype": "text/x-python",
   "name": "python",
   "nbconvert_exporter": "python",
   "pygments_lexer": "ipython3",
   "version": "3.7.3"
  }
 },
 "nbformat": 4,
 "nbformat_minor": 2
}
