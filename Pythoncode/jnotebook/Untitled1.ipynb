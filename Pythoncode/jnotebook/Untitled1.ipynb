{
 "cells": [
  {
   "cell_type": "code",
   "execution_count": 1,
   "metadata": {},
   "outputs": [
    {
     "name": "stdout",
     "output_type": "stream",
     "text": [
      "Help on set object:\n",
      "\n",
      "class set(object)\n",
      " |  set() -> new empty set object\n",
      " |  set(iterable) -> new set object\n",
      " |  \n",
      " |  Build an unordered collection of unique elements.\n",
      " |  \n",
      " |  Methods defined here:\n",
      " |  \n",
      " |  __and__(self, value, /)\n",
      " |      Return self&value.\n",
      " |  \n",
      " |  __contains__(...)\n",
      " |      x.__contains__(y) <==> y in x.\n",
      " |  \n",
      " |  __eq__(self, value, /)\n",
      " |      Return self==value.\n",
      " |  \n",
      " |  __ge__(self, value, /)\n",
      " |      Return self>=value.\n",
      " |  \n",
      " |  __getattribute__(self, name, /)\n",
      " |      Return getattr(self, name).\n",
      " |  \n",
      " |  __gt__(self, value, /)\n",
      " |      Return self>value.\n",
      " |  \n",
      " |  __iand__(self, value, /)\n",
      " |      Return self&=value.\n",
      " |  \n",
      " |  __init__(self, /, *args, **kwargs)\n",
      " |      Initialize self.  See help(type(self)) for accurate signature.\n",
      " |  \n",
      " |  __ior__(self, value, /)\n",
      " |      Return self|=value.\n",
      " |  \n",
      " |  __isub__(self, value, /)\n",
      " |      Return self-=value.\n",
      " |  \n",
      " |  __iter__(self, /)\n",
      " |      Implement iter(self).\n",
      " |  \n",
      " |  __ixor__(self, value, /)\n",
      " |      Return self^=value.\n",
      " |  \n",
      " |  __le__(self, value, /)\n",
      " |      Return self<=value.\n",
      " |  \n",
      " |  __len__(self, /)\n",
      " |      Return len(self).\n",
      " |  \n",
      " |  __lt__(self, value, /)\n",
      " |      Return self<value.\n",
      " |  \n",
      " |  __ne__(self, value, /)\n",
      " |      Return self!=value.\n",
      " |  \n",
      " |  __or__(self, value, /)\n",
      " |      Return self|value.\n",
      " |  \n",
      " |  __rand__(self, value, /)\n",
      " |      Return value&self.\n",
      " |  \n",
      " |  __reduce__(...)\n",
      " |      Return state information for pickling.\n",
      " |  \n",
      " |  __repr__(self, /)\n",
      " |      Return repr(self).\n",
      " |  \n",
      " |  __ror__(self, value, /)\n",
      " |      Return value|self.\n",
      " |  \n",
      " |  __rsub__(self, value, /)\n",
      " |      Return value-self.\n",
      " |  \n",
      " |  __rxor__(self, value, /)\n",
      " |      Return value^self.\n",
      " |  \n",
      " |  __sizeof__(...)\n",
      " |      S.__sizeof__() -> size of S in memory, in bytes\n",
      " |  \n",
      " |  __sub__(self, value, /)\n",
      " |      Return self-value.\n",
      " |  \n",
      " |  __xor__(self, value, /)\n",
      " |      Return self^value.\n",
      " |  \n",
      " |  add(...)\n",
      " |      Add an element to a set.\n",
      " |      \n",
      " |      This has no effect if the element is already present.\n",
      " |  \n",
      " |  clear(...)\n",
      " |      Remove all elements from this set.\n",
      " |  \n",
      " |  copy(...)\n",
      " |      Return a shallow copy of a set.\n",
      " |  \n",
      " |  difference(...)\n",
      " |      Return the difference of two or more sets as a new set.\n",
      " |      \n",
      " |      (i.e. all elements that are in this set but not the others.)\n",
      " |  \n",
      " |  difference_update(...)\n",
      " |      Remove all elements of another set from this set.\n",
      " |  \n",
      " |  discard(...)\n",
      " |      Remove an element from a set if it is a member.\n",
      " |      \n",
      " |      If the element is not a member, do nothing.\n",
      " |  \n",
      " |  intersection(...)\n",
      " |      Return the intersection of two sets as a new set.\n",
      " |      \n",
      " |      (i.e. all elements that are in both sets.)\n",
      " |  \n",
      " |  intersection_update(...)\n",
      " |      Update a set with the intersection of itself and another.\n",
      " |  \n",
      " |  isdisjoint(...)\n",
      " |      Return True if two sets have a null intersection.\n",
      " |  \n",
      " |  issubset(...)\n",
      " |      Report whether another set contains this set.\n",
      " |  \n",
      " |  issuperset(...)\n",
      " |      Report whether this set contains another set.\n",
      " |  \n",
      " |  pop(...)\n",
      " |      Remove and return an arbitrary set element.\n",
      " |      Raises KeyError if the set is empty.\n",
      " |  \n",
      " |  remove(...)\n",
      " |      Remove an element from a set; it must be a member.\n",
      " |      \n",
      " |      If the element is not a member, raise a KeyError.\n",
      " |  \n",
      " |  symmetric_difference(...)\n",
      " |      Return the symmetric difference of two sets as a new set.\n",
      " |      \n",
      " |      (i.e. all elements that are in exactly one of the sets.)\n",
      " |  \n",
      " |  symmetric_difference_update(...)\n",
      " |      Update a set with the symmetric difference of itself and another.\n",
      " |  \n",
      " |  union(...)\n",
      " |      Return the union of sets as a new set.\n",
      " |      \n",
      " |      (i.e. all elements that are in either set.)\n",
      " |  \n",
      " |  update(...)\n",
      " |      Update a set with the union of itself and others.\n",
      " |  \n",
      " |  ----------------------------------------------------------------------\n",
      " |  Static methods defined here:\n",
      " |  \n",
      " |  __new__(*args, **kwargs) from builtins.type\n",
      " |      Create and return a new object.  See help(type) for accurate signature.\n",
      " |  \n",
      " |  ----------------------------------------------------------------------\n",
      " |  Data and other attributes defined here:\n",
      " |  \n",
      " |  __hash__ = None\n",
      "\n"
     ]
    }
   ],
   "source": [
    "help(set())"
   ]
  },
  {
   "cell_type": "code",
   "execution_count": 2,
   "metadata": {},
   "outputs": [
    {
     "data": {
      "text/plain": [
       "['__and__',\n",
       " '__class__',\n",
       " '__contains__',\n",
       " '__delattr__',\n",
       " '__dir__',\n",
       " '__doc__',\n",
       " '__eq__',\n",
       " '__format__',\n",
       " '__ge__',\n",
       " '__getattribute__',\n",
       " '__gt__',\n",
       " '__hash__',\n",
       " '__iand__',\n",
       " '__init__',\n",
       " '__init_subclass__',\n",
       " '__ior__',\n",
       " '__isub__',\n",
       " '__iter__',\n",
       " '__ixor__',\n",
       " '__le__',\n",
       " '__len__',\n",
       " '__lt__',\n",
       " '__ne__',\n",
       " '__new__',\n",
       " '__or__',\n",
       " '__rand__',\n",
       " '__reduce__',\n",
       " '__reduce_ex__',\n",
       " '__repr__',\n",
       " '__ror__',\n",
       " '__rsub__',\n",
       " '__rxor__',\n",
       " '__setattr__',\n",
       " '__sizeof__',\n",
       " '__str__',\n",
       " '__sub__',\n",
       " '__subclasshook__',\n",
       " '__xor__',\n",
       " 'add',\n",
       " 'clear',\n",
       " 'copy',\n",
       " 'difference',\n",
       " 'difference_update',\n",
       " 'discard',\n",
       " 'intersection',\n",
       " 'intersection_update',\n",
       " 'isdisjoint',\n",
       " 'issubset',\n",
       " 'issuperset',\n",
       " 'pop',\n",
       " 'remove',\n",
       " 'symmetric_difference',\n",
       " 'symmetric_difference_update',\n",
       " 'union',\n",
       " 'update']"
      ]
     },
     "execution_count": 2,
     "metadata": {},
     "output_type": "execute_result"
    }
   ],
   "source": [
    "dir(set())"
   ]
  },
  {
   "cell_type": "code",
   "execution_count": 16,
   "metadata": {},
   "outputs": [],
   "source": [
    "def check_sums(array,s):\n",
    "    possible_sum =set()\n",
    "    for item in array:\n",
    "        if item in possible_sum:\n",
    "            return True\n",
    "        possible_sum.add(s-item)\n",
    "    return False"
   ]
  },
  {
   "cell_type": "code",
   "execution_count": 17,
   "metadata": {},
   "outputs": [
    {
     "name": "stdout",
     "output_type": "stream",
     "text": [
      "True\n"
     ]
    }
   ],
   "source": [
    "print(check_sums([10,4,5,7],17))"
   ]
  },
  {
   "cell_type": "code",
   "execution_count": 18,
   "metadata": {},
   "outputs": [
    {
     "name": "stdout",
     "output_type": "stream",
     "text": [
      "False\n"
     ]
    }
   ],
   "source": [
    "print(check_sums([10,5,5,6],17))"
   ]
  },
  {
   "cell_type": "code",
   "execution_count": 20,
   "metadata": {},
   "outputs": [
    {
     "data": {
      "text/plain": [
       "\"\\nProblem 2\\n\\nThis problem was asked by Uber.\\n\\nGiven an array of integers, return a new array such that each element at index i of the new array is the product of all the numbers in the original array except the one at i.\\n\\nFor example, if our input was [1, 2, 3, 4, 5], the expected output would be [120, 60, 40, 30, 24]. If our input was [3, 2, 1], the expected output would be [2, 3, 6].\\n\\nFollow-up: what if you can't use division?\\n\""
      ]
     },
     "execution_count": 20,
     "metadata": {},
     "output_type": "execute_result"
    }
   ],
   "source": [
    "\"\"\"\n",
    "Problem 2\n",
    "\n",
    "This problem was asked by Uber.\n",
    "\n",
    "Given an array of integers, return a new array such that each element at index i of the new array is the product of all the numbers in the original array except the one at i.\n",
    "\n",
    "For example, if our input was [1, 2, 3, 4, 5], the expected output would be [120, 60, 40, 30, 24]. If our input was [3, 2, 1], the expected output would be [2, 3, 6].\n",
    "\n",
    "Follow-up: what if you can't use division?\n",
    "\"\"\"\n"
   ]
  },
  {
   "cell_type": "code",
   "execution_count": 21,
   "metadata": {},
   "outputs": [],
   "source": [
    "def get_factors(array):\n",
    "    cumulative_product = 1\n",
    "    right_prod_array = list()\n",
    "    for num in array:\n",
    "        cumulative_product *= num\n",
    "        right_prod_array.append(cumulative_product)\n",
    "\n",
    "    cumulative_product = 1\n",
    "    left_prod_array = list()\n",
    "    for num in array[::-1]:\n",
    "        cumulative_product *= num\n",
    "        left_prod_array.append(cumulative_product)\n",
    "    left_prod_array = left_prod_array[::-1]\n",
    "\n",
    "    output_array = list()\n",
    "    for i in range(len(array)):\n",
    "        num = None\n",
    "        if i == 0:\n",
    "            num = left_prod_array[i + 1]\n",
    "        elif i == len(array) - 1:\n",
    "            num = right_prod_array[i - 1]\n",
    "        else:\n",
    "            num = right_prod_array[i - 1] * left_prod_array[i + 1]\n",
    "        output_array.append(num)\n",
    "    \n",
    "    return output_array"
   ]
  },
  {
   "cell_type": "code",
   "execution_count": 22,
   "metadata": {},
   "outputs": [
    {
     "name": "stdout",
     "output_type": "stream",
     "text": [
      "[120, 60, 40, 30, 24]\n"
     ]
    }
   ],
   "source": [
    "print(get_factors([1, 2, 3, 4, 5]))"
   ]
  },
  {
   "cell_type": "code",
   "execution_count": 23,
   "metadata": {},
   "outputs": [
    {
     "name": "stdout",
     "output_type": "stream",
     "text": [
      "{\"data\": \"a\", \"left\": \"{\\\"data\\\": \\\"b\\\", \\\"left\\\": \\\"{\\\\\\\"data\\\\\\\": \\\\\\\"d\\\\\\\"}\\\", \\\"right\\\": \\\"{\\\\\\\"data\\\\\\\": \\\\\\\"e\\\\\\\"}\\\"}\", \"right\": \"{\\\"data\\\": \\\"c\\\", \\\"left\\\": \\\"{\\\\\\\"data\\\\\\\": \\\\\\\"f\\\\\\\"}\\\", \\\"right\\\": \\\"{\\\\\\\"data\\\\\\\": \\\\\\\"g\\\\\\\"}\\\"}\"}\n"
     ]
    }
   ],
   "source": [
    "\"\"\"\n",
    "This problem was asked by Google.\n",
    "\n",
    "Given the root to a binary tree, implement serialize(root), which serializes the tree into a string, and deserialize(s), which deserializes the string back into the tree.\n",
    "\"\"\"\n",
    "import json\n",
    "\n",
    "class Node:\n",
    "    def __init__(self, data):\n",
    "        self.data = data\n",
    "        self.left = None\n",
    "        self.right = None\n",
    "    \n",
    "    def __repr__(self):\n",
    "        return str(self.data)\n",
    "\n",
    "def serialize(root):\n",
    "    if not root:\n",
    "        return None\n",
    "\n",
    "    serialized_tree_map = dict()\n",
    "    serialized_left = serialize(root.left)\n",
    "    serialized_right = serialize(root.right)\n",
    "\n",
    "    serialized_tree_map['data'] = root.data\n",
    "    if serialized_left:\n",
    "        serialized_tree_map['left'] = serialized_left\n",
    "    if serialized_right:\n",
    "        serialized_tree_map['right'] = serialized_right\n",
    "\n",
    "    return json.dumps(serialized_tree_map)\n",
    "\n",
    "\n",
    "def deserialize(s):\n",
    "    serialized_tree_map = json.loads(s)\n",
    "\n",
    "    node = Node(serialized_tree_map['data'])\n",
    "    if 'left' in serialized_tree_map:\n",
    "        node.left = deserialize(serialized_tree_map['left'])\n",
    "    if 'right' in serialized_tree_map:\n",
    "        node.right = deserialize(serialized_tree_map['right'])\n",
    "\n",
    "    return node\n",
    "\n",
    "\n",
    "node_a = Node('a')\n",
    "node_b = Node('b')\n",
    "node_c = Node('c')\n",
    "node_d = Node('d')\n",
    "node_e = Node('e')\n",
    "node_f = Node('f')\n",
    "node_g = Node('g')\n",
    "node_a.left = node_b\n",
    "node_a.right = node_c\n",
    "node_b.left = node_d\n",
    "node_b.right = node_e\n",
    "node_c.left = node_f\n",
    "node_c.right = node_g\n",
    "\n",
    "serialized_a = serialize(node_a)\n",
    "print(serialized_a)\n",
    "\n",
    "deserialized_a = deserialize(serialized_a)\n",
    " #str(deserialized_a) == \"a\""
   ]
  },
  {
   "cell_type": "code",
   "execution_count": 27,
   "metadata": {},
   "outputs": [
    {
     "name": "stdout",
     "output_type": "stream",
     "text": [
      "True\n",
      "False\n"
     ]
    }
   ],
   "source": [
    "print( str(deserialized_a) == \"a\")\n",
    "print( str(deserialized_a) == \"b\")"
   ]
  },
  {
   "cell_type": "code",
   "execution_count": 28,
   "metadata": {},
   "outputs": [
    {
     "name": "stdout",
     "output_type": "stream",
     "text": [
      "\n",
      " 2\n",
      "\n",
      " 3\n",
      "\n",
      " 3\n",
      "\n",
      " 2\n",
      "\n",
      " 1\n",
      "1\n"
     ]
    }
   ],
   "source": [
    "\"\"\"\n",
    "This problem was asked by Stripe.\n",
    "\n",
    "Given an array of integers, find the first missing positive integer in linear time and constant space. In other words, find the lowest positive integer that does not exist in the array. The array can contain duplicates and negative numbers as well.\n",
    "\n",
    "For example, the input [3, 4, -1, 1] should give 2. The input [1, 2, 0] should give 3.\n",
    "\n",
    "You can modify the input array in-place.\n",
    "\"\"\"\n",
    "def get_positive_subset(array):\n",
    "    i = 0\n",
    "    j = len(array) - 1\n",
    "\n",
    "    while i < j:\n",
    "        if array[i] > 0 and array[j] <= 0:\n",
    "            array[i], array[j] = array[j], array[i]\n",
    "            i += 1\n",
    "            j -= 1\n",
    "        elif array[i] > 0:\n",
    "            j -= 1\n",
    "        else:\n",
    "            i += 1\n",
    "\n",
    "    # print(\"i: {}, j: {}\".format(i, j))\n",
    "    # print(\"partitioned_array:\", array)\n",
    "    pivot = i if array[i] > 0 else i + 1\n",
    "    return array[pivot:]\n",
    "\n",
    "\n",
    "def get_missing_number(array):\n",
    "    if not array:\n",
    "        return 1\n",
    "\n",
    "    array = get_positive_subset(array)\n",
    "    array_len = len(array)\n",
    "    # print(\"array: {}\".format(array))\n",
    "\n",
    "    if not array:\n",
    "        return 1\n",
    "\n",
    "    if max(array) == len(array):\n",
    "        return max(array) + 1\n",
    "\n",
    "    for num in array:\n",
    "        current_num = abs(num)\n",
    "        if (current_num - 1) < array_len:\n",
    "            array[current_num - 1] *= -1\n",
    "    # print(\"mutated_array: {}\".format(array))\n",
    "\n",
    "    for i, num in enumerate(array):\n",
    "        if num > 0:\n",
    "            return i + 1\n",
    "\n",
    "\n",
    "print(\"\\n\",get_missing_number([3, 4, -1, 1]) )\n",
    "print(\"\\n\",get_missing_number([1, 2, 0]))\n",
    "print(\"\\n\",get_missing_number([1, 2, 5])) \n",
    "print(\"\\n\",get_missing_number([1]) )\n",
    "print(\"\\n\",get_missing_number([-1, -2])) \n",
    "print( get_missing_number([]) )"
   ]
  },
  {
   "cell_type": "code",
   "execution_count": 29,
   "metadata": {},
   "outputs": [
    {
     "name": "stdout",
     "output_type": "stream",
     "text": [
      "3\n",
      "\n",
      " 4\n"
     ]
    }
   ],
   "source": [
    "\"\"\"\n",
    "This problem was asked by Jane Street.\n",
    "\n",
    "cons(a, b) constructs a pair, and car(pair) and cdr(pair) returns the first and last element of that pair. For example, car(cons(3, 4)) returns 3, and cdr(cons(3, 4)) returns 4.\n",
    "\n",
    "Given this implementation of cons:\n",
    "```python\n",
    "def cons(a, b):\n",
    "    return lambda f : f(a, b)\n",
    "```\n",
    "Implement car and cdr.\n",
    "\"\"\"\n",
    "def cons(a, b):\n",
    "    return lambda f: f(a, b)\n",
    "\n",
    "def car(f):\n",
    "    z = lambda x, y: x\n",
    "    return f(z)\n",
    "\n",
    "def cdr(f):\n",
    "    z = lambda x, y: y\n",
    "    return f(z)\n",
    "\n",
    "\n",
    "print(car(cons(3, 4)))\n",
    "print(\"\\n\",cdr(cons(3, 4)))"
   ]
  },
  {
   "cell_type": "code",
   "execution_count": 30,
   "metadata": {},
   "outputs": [
    {
     "name": "stdout",
     "output_type": "stream",
     "text": [
      "1\n",
      "2\n",
      "3\n",
      "5\n",
      "4\n"
     ]
    }
   ],
   "source": [
    "\"\"\"\n",
    "This problem was asked by Facebook.\n",
    "\n",
    "Given the mapping a = 1, b = 2, ... z = 26, and an encoded message, count the number of ways it can be decoded.\n",
    "\n",
    "For example, the message '111' would give 3, since it could be decoded as 'aaa', 'ka', and 'ak'.\n",
    "\n",
    "You can assume that the messages are decodable. For example, '001' is not allowed.\n",
    "\"\"\"\n",
    "def is_char(code):\n",
    "    return 0 if code > 26 or code < 1 else 1\n",
    "\n",
    "def get_message_count(code):\n",
    "    code_str = str(code)\n",
    "    if len(code_str) == 1:\n",
    "        count = 1\n",
    "    elif len(code_str) == 2:\n",
    "        count = 1 + is_char(code)\n",
    "    else:\n",
    "        count = get_message_count(int(code_str[1:]))\n",
    "        if is_char(int(code_str[:2])):\n",
    "            count += get_message_count(int(code_str[2:]))\n",
    "\n",
    "    return count\n",
    "\n",
    "\n",
    "print(get_message_count(81))\n",
    "print(get_message_count(11))\n",
    "print( get_message_count(111))\n",
    "print(get_message_count(1111))\n",
    "print(get_message_count(1311))"
   ]
  },
  {
   "cell_type": "code",
   "execution_count": 31,
   "metadata": {},
   "outputs": [
    {
     "name": "stdout",
     "output_type": "stream",
     "text": [
      "\n",
      " 0\n",
      "\n",
      " 5\n",
      "\n",
      " 4\n",
      "\n",
      " 1\n",
      "\n",
      " 3\n"
     ]
    }
   ],
   "source": [
    "\"\"\"\n",
    "This problem was asked by Google.\n",
    "\n",
    "A unival tree (which stands for \"universal value\") is a tree where all nodes under it have the same value.\n",
    "\n",
    "Given the root to a binary tree, count the number of unival subtrees.\n",
    "\n",
    "For example, the following tree has 5 unival subtrees:\n",
    "\n",
    "```\n",
    "   0\n",
    "  / \\\n",
    " 1   0\n",
    "    / \\\n",
    "   1   0\n",
    "  / \\\n",
    " 1   1\n",
    "```\n",
    "\"\"\"\n",
    "class Node:\n",
    "    def __init__(self, data):\n",
    "        self.data = data\n",
    "        self.left = None\n",
    "        self.right = None\n",
    "    \n",
    "    def __repr__(self):\n",
    "        return str(self.data)\n",
    "\n",
    "def count_unival_trees(root):\n",
    "    if not root:\n",
    "        return 0\n",
    "    elif not root.left and not root.right:\n",
    "        return 1\n",
    "    elif not root.left and root.data == root.right.data:\n",
    "        return 1 + count_unival_trees(root.right)\n",
    "    elif not root.right and root.data == root.left.data:\n",
    "        return 1 + count_unival_trees(root.left)\n",
    "    \n",
    "    child_counts = count_unival_trees(root.left) + count_unival_trees(root.right)\n",
    "    current_node_count = 0\n",
    "    if root.data == root.left.data and root.data == root.left.data:\n",
    "        current_node_count = 1\n",
    "\n",
    "    return current_node_count + child_counts\n",
    "\n",
    "\n",
    "node_a = Node('0')\n",
    "node_b = Node('1')\n",
    "node_c = Node('0')\n",
    "node_d = Node('1')\n",
    "node_e = Node('0')\n",
    "node_f = Node('1')\n",
    "node_g = Node('1')\n",
    "node_a.left = node_b\n",
    "node_a.right = node_c\n",
    "node_c.left = node_d\n",
    "node_c.right = node_e\n",
    "node_d.left = node_f\n",
    "node_d.right = node_g\n",
    "\n",
    "print(\"\\n\",count_unival_trees(None) )\n",
    "print(\"\\n\",count_unival_trees(node_a)) \n",
    "print(\"\\n\",count_unival_trees(node_c))\n",
    "print(\"\\n\",count_unival_trees(node_g))\n",
    "print(\"\\n\",count_unival_trees(node_d))"
   ]
  },
  {
   "cell_type": "code",
   "execution_count": 34,
   "metadata": {},
   "outputs": [
    {
     "name": "stdout",
     "output_type": "stream",
     "text": [
      "amount: 5; previous: 0; largest: 0\n",
      "new_previous: 0; new_largest: 5\n",
      "amount: 1; previous: 0; largest: 5\n",
      "new_previous: 5; new_largest: 5\n",
      "amount: 1; previous: 5; largest: 5\n",
      "new_previous: 5; new_largest: 6\n",
      "amount: 5; previous: 5; largest: 6\n",
      "new_previous: 6; new_largest: 10\n",
      "10\n"
     ]
    }
   ],
   "source": [
    "import sys\n",
    "\n",
    "def get_largest_non_adj_sum(array):\n",
    "    previous, largest = 0, 0\n",
    "    for amount in array:\n",
    "        print(\"amount: {}; previous: {}; largest: {}\".format(amount, previous, largest))\n",
    "        previous, largest = largest, max(largest, previous + amount)\n",
    "        print(\"new_previous: {}; new_largest: {}\".format(previous, largest))\n",
    "    return largest\n",
    "\n",
    "#print(get_largest_non_adj_sum([2, 4, 6, 8]))\n",
    "print(get_largest_non_adj_sum([5, 1, 1, 5]))"
   ]
  },
  {
   "cell_type": "code",
   "execution_count": 35,
   "metadata": {},
   "outputs": [
    {
     "name": "stdout",
     "output_type": "stream",
     "text": [
      "hello\n"
     ]
    }
   ],
   "source": [
    "from time import sleep\n",
    "\n",
    "def sample_function():\n",
    "    print(\"hello\")\n",
    "\n",
    "def schedule_function(f, delay_in_ms):\n",
    "    delay_in_s = delay_in_ms / 1000\n",
    "    sleep(delay_in_s)\n",
    "    f()\n",
    "\n",
    "schedule_function(sample_function, 10000)"
   ]
  },
  {
   "cell_type": "code",
   "execution_count": 36,
   "metadata": {},
   "outputs": [
    {
     "name": "stdout",
     "output_type": "stream",
     "text": [
      "The Zen of Python, by Tim Peters\n",
      "\n",
      "Beautiful is better than ugly.\n",
      "Explicit is better than implicit.\n",
      "Simple is better than complex.\n",
      "Complex is better than complicated.\n",
      "Flat is better than nested.\n",
      "Sparse is better than dense.\n",
      "Readability counts.\n",
      "Special cases aren't special enough to break the rules.\n",
      "Although practicality beats purity.\n",
      "Errors should never pass silently.\n",
      "Unless explicitly silenced.\n",
      "In the face of ambiguity, refuse the temptation to guess.\n",
      "There should be one-- and preferably only one --obvious way to do it.\n",
      "Although that way may not be obvious at first unless you're Dutch.\n",
      "Now is better than never.\n",
      "Although never is often better than *right* now.\n",
      "If the implementation is hard to explain, it's a bad idea.\n",
      "If the implementation is easy to explain, it may be a good idea.\n",
      "Namespaces are one honking great idea -- let's do more of those!\n"
     ]
    }
   ],
   "source": [
    "import this"
   ]
  },
  {
   "cell_type": "code",
   "execution_count": null,
   "metadata": {},
   "outputs": [],
   "source": []
  }
 ],
 "metadata": {
  "kernelspec": {
   "display_name": "Python 3",
   "language": "python",
   "name": "python3"
  },
  "language_info": {
   "codemirror_mode": {
    "name": "ipython",
    "version": 3
   },
   "file_extension": ".py",
   "mimetype": "text/x-python",
   "name": "python",
   "nbconvert_exporter": "python",
   "pygments_lexer": "ipython3",
   "version": "3.7.3"
  }
 },
 "nbformat": 4,
 "nbformat_minor": 2
}
